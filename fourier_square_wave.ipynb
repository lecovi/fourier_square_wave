{
 "cells": [
  {
   "cell_type": "markdown",
   "metadata": {},
   "source": [
    "# Aproximación de una señal cuadrada por la serie de Fourier"
   ]
  },
  {
   "cell_type": "markdown",
   "metadata": {},
   "source": [
    "Basado en el artículo: http://firsttimeprogrammer.blogspot.com/2015/04/fourier-series-and-square-wave.html"
   ]
  },
  {
   "cell_type": "code",
   "execution_count": 1,
   "metadata": {},
   "outputs": [],
   "source": [
    "import numpy as np\n",
    "import matplotlib.pyplot as plt\n",
    "\n",
    "plt.style.use(\"ggplot\")"
   ]
  },
  {
   "cell_type": "markdown",
   "metadata": {},
   "source": [
    "Vamos a usar la función `linspace` de `NumPy` para generar una serie de números. \n",
    "\n",
    "Usemos 10k puntos entre el 0 y 60, un período de 10, calculemos la serie con 10 armónicos con un nivel de contínua de 0.5 y una amplitud de 0.5 también."
   ]
  },
  {
   "cell_type": "markdown",
   "metadata": {},
   "source": [
    "## Setup"
   ]
  },
  {
   "cell_type": "code",
   "execution_count": 2,
   "metadata": {},
   "outputs": [],
   "source": [
    "x = np.linspace(start=0, stop=60, num=10_000)\n",
    "\n",
    "T = 10\n",
    "armonics = 40\n",
    "a0 = 0.5\n",
    "amplitude = 0.5"
   ]
  },
  {
   "cell_type": "markdown",
   "metadata": {},
   "source": [
    "Definimos la función `square_wave` que nos va a devolver los puntos $f(x)$ de la función cuadrada para ese período, con ese valor de contínua y esa amplitud."
   ]
  },
  {
   "cell_type": "markdown",
   "metadata": {},
   "source": [
    "## Definimos las funciones"
   ]
  },
  {
   "cell_type": "code",
   "execution_count": 3,
   "metadata": {},
   "outputs": [],
   "source": [
    "def square_wave(x, T, a0, amplitude):\n",
    "    lowerBoundLeft = (-T/2)\n",
    "    lowerBoundRight = 0\n",
    "    upperBoundLeft = 0\n",
    "    upperBoundRight = (T/2)\n",
    "    high = a0 + amplitude\n",
    "    low = a0 - amplitude\n",
    "    \n",
    "    while True:\n",
    "        if (x >= lowerBoundLeft) and (x <= lowerBoundRight):\n",
    "            return low\n",
    "        elif (x >= upperBoundLeft) and (x <= upperBoundRight):\n",
    "            return high\n",
    "        else:\n",
    "            lowerBoundLeft -= T/2\n",
    "            lowerBoundRight -= T/2\n",
    "            upperBoundLeft += T/2\n",
    "            upperBoundRight += T/2\n",
    "            if high == a0 + amplitude:\n",
    "                high, low = low, high\n",
    "            else:\n",
    "                high = a0 + amplitude\n",
    "                low = a0 - amplitude"
   ]
  },
  {
   "cell_type": "markdown",
   "metadata": {},
   "source": [
    "Definimos la función `bn` que nos calculará los coeficientes de cada uno de los armónicos"
   ]
  },
  {
   "cell_type": "code",
   "execution_count": 4,
   "metadata": {},
   "outputs": [],
   "source": [
    "# Bn coefficients\n",
    "def bn(n):\n",
    "    if (n % 2 != 0):\n",
    "        return 4/(np.pi * n)\n",
    "    return 0"
   ]
  },
  {
   "cell_type": "markdown",
   "metadata": {},
   "source": [
    "Y la función `wn` que son los valores correspondientes al armónico "
   ]
  },
  {
   "cell_type": "code",
   "execution_count": 5,
   "metadata": {},
   "outputs": [],
   "source": [
    "# Wn\n",
    "def wn(armonic, T):\n",
    "    return 2 * np.pi * armonic / T"
   ]
  },
  {
   "cell_type": "markdown",
   "metadata": {},
   "source": [
    "Finalmente definimos la función `fourier_series` que nos devuelve el punto $f(x)$ que "
   ]
  },
  {
   "cell_type": "code",
   "execution_count": 6,
   "metadata": {},
   "outputs": [],
   "source": [
    "# Fourier Series function\n",
    "def fourier_series(armonics, x, T, a0, amplitude):\n",
    "    partialSums = a0\n",
    "    for armonic in range(1, armonics):\n",
    "        partialSums = partialSums + amplitude * bn(armonic) * np.sin(wn(armonic, T) * x)\n",
    "    return partialSums"
   ]
  },
  {
   "cell_type": "markdown",
   "metadata": {},
   "source": [
    "Iteramos sobre los valores de $x$ para obtener las correspondientes gráficas."
   ]
  },
  {
   "cell_type": "markdown",
   "metadata": {},
   "source": [
    "## Iteramos"
   ]
  },
  {
   "cell_type": "code",
   "execution_count": 7,
   "metadata": {},
   "outputs": [],
   "source": [
    "square_signal = []\n",
    "fourier = []\n",
    "for value in x:\n",
    "    square_signal.append(square_wave(value, T, a0, amplitude))\n",
    "    fourier.append(fourier_series(armonics, value, T, a0, amplitude))"
   ]
  },
  {
   "cell_type": "markdown",
   "metadata": {},
   "source": [
    "Luego, finalmente, graficamos ambas funciones"
   ]
  },
  {
   "cell_type": "markdown",
   "metadata": {},
   "source": [
    "### Graficamos"
   ]
  },
  {
   "cell_type": "code",
   "execution_count": 8,
   "metadata": {},
   "outputs": [
    {
     "data": {
      "image/png": "[encoded data removed]",
      "text/plain": [
       "<Figure size 432x288 with 1 Axes>"
      ]
     },
     "metadata": {
      "needs_background": "light"
     },
     "output_type": "display_data"
    }
   ],
   "source": [
    "plt.plot(x, square_signal, color=\"blue\", label=\"Signal\")\n",
    "plt.plot(x, fourier ,color=\"red\", label=\"Fourier series approximation\")\n",
    "plt.title(f\"Fourier Series approximation number of armonics: {armonics}\")\n",
    "plt.legend()\n",
    "plt.show()"
   ]
  },
  {
   "cell_type": "markdown",
   "metadata": {},
   "source": [
    "> Probá **jugar** con los diferentes valores, especialmente variando la cantidad de armónicos que pusimos en la sección [Setup](#Setup)"
   ]
  }
 ],
 "metadata": {
  "kernelspec": {
   "display_name": "Python 3",
   "language": "python",
   "name": "python3"
  },
  "language_info": {
   "codemirror_mode": {
    "name": "ipython",
    "version": 3
   },
   "file_extension": ".py",
   "mimetype": "text/x-python",
   "name": "python",
   "nbconvert_exporter": "python",
   "pygments_lexer": "ipython3",
   "version": "3.7.7"
  }
 },
 "nbformat": 4,
 "nbformat_minor": 4
}
